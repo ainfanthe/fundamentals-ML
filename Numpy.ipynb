{
  "cells": [
    {
      "cell_type": "markdown",
      "metadata": {
        "id": "6nCAK_oXJ4x6"
      },
      "source": [
        "### Numpy\n",
        "Notebook cuyo objetivo es proporcionar una introducción sólida fundamentos de Numpy, sus aplicaciones en computación númerica, Machine Learning, Data Science, y un largo etcétera. Nos proporciona estructuras de datos eficientes para la manipulación de arreglos u otras operaciones propiamente matemáticas."
      ]
    },
    {
      "cell_type": "code",
      "execution_count": 10,
      "metadata": {
        "scrolled": false,
        "id": "MDePwwGhJ4yF",
        "outputId": "5e5522e7-7930-4163-fcd7-6e7d87d0072e",
        "colab": {
          "base_uri": "https://localhost:8080/"
        }
      },
      "outputs": [
        {
          "output_type": "stream",
          "name": "stdout",
          "text": [
            "<class 'numpy.ndarray'>\n"
          ]
        }
      ],
      "source": [
        "import numpy as np\n",
        "# Array unidimensional\n",
        "array_2 = np.array([7, 77, 777])\n",
        "print(type(array_2))"
      ]
    },
    {
      "cell_type": "code",
      "execution_count": 11,
      "metadata": {
        "id": "haK73vuBJ4yK",
        "colab": {
          "base_uri": "https://localhost:8080/"
        },
        "outputId": "e5ab2e01-cfdb-4a4b-f638-6b72df9d07bf"
      },
      "outputs": [
        {
          "output_type": "stream",
          "name": "stdout",
          "text": [
            "<class 'tuple'>\n",
            "(3,)\n",
            "[  7  77 777]\n"
          ]
        }
      ],
      "source": [
        "# Impresión de la forma (.shape)\n",
        "print(type(array_2.shape))\n",
        "print(array_2.shape)\n",
        "print(array_2)"
      ]
    },
    {
      "cell_type": "code",
      "execution_count": 13,
      "metadata": {
        "id": "UZnE0-7zJ4yM",
        "colab": {
          "base_uri": "https://localhost:8080/"
        },
        "outputId": "2f3c7429-210d-46b6-c721-389e024516b9"
      },
      "outputs": [
        {
          "output_type": "stream",
          "name": "stdout",
          "text": [
            "7\n",
            "77\n",
            "777\n",
            "4\n"
          ]
        }
      ],
      "source": [
        "# Acceso a elementos mediante indices\n",
        "print(array_2[0])\n",
        "print(array_2[1])\n",
        "print(array_2[2])\n",
        "array_2[2] = 4 # Reasignación de elemento dentro del arreglo\n",
        "print(array_2[2])"
      ]
    },
    {
      "cell_type": "code",
      "execution_count": 18,
      "metadata": {
        "id": "O9BUAQGaJ4yP",
        "colab": {
          "base_uri": "https://localhost:8080/"
        },
        "outputId": "c9ee9f1e-e260-46ca-8d07-b8b69c4904f5"
      },
      "outputs": [
        {
          "output_type": "stream",
          "name": "stdout",
          "text": [
            "La forma de este array es:  (4, 3)\n"
          ]
        }
      ],
      "source": [
        "# Array multidimensional\n",
        "array_3 = np.array([[11,12,13],  [22,23,24],  [22,23,24],  [22,23,24]])\n",
        "print(\"La forma de este array es: \", array_3.shape)"
      ]
    },
    {
      "cell_type": "code",
      "execution_count": 21,
      "metadata": {
        "scrolled": true,
        "id": "QxiddgYwJ4yR",
        "colab": {
          "base_uri": "https://localhost:8080/"
        },
        "outputId": "d3bc6faf-4d33-4846-adc8-4201a5c282ee"
      },
      "outputs": [
        {
          "output_type": "stream",
          "name": "stdout",
          "text": [
            "Así accedo a un valor de este array de dos dimensiones 13\n",
            "Así imprimo el array completo\n",
            "[[11 12 13]\n",
            " [22 23 24]\n",
            " [22 23 24]\n",
            " [22 23 24]]\n"
          ]
        }
      ],
      "source": [
        "print(\"Así accedo en un array de dos dimensiones\", array_3[0,2])\n",
        "print(\"Array completo\")\n",
        "print(array_3)\n"
      ]
    },
    {
      "cell_type": "markdown",
      "metadata": {
        "id": "YGrMkaxYJ4yU"
      },
      "source": [
        "$ I^{n \\times n} =\n",
        "\\left( \\begin{array}{cccc}\n",
        " 11 & 12 & 13  \\\\\n",
        " 22 & 23 & 24  \\\\\n",
        " 35 & 36 & 37  \\\\\n",
        "\\end{array} \\right) $"
      ]
    },
    {
      "cell_type": "markdown",
      "metadata": {
        "id": "Ndi7KdR4J4yX"
      },
      "source": [
        "\n",
        "### Distintas maneras de crear nd arrays"
      ]
    },
    {
      "cell_type": "code",
      "execution_count": 22,
      "metadata": {
        "id": "RgqSjvtpJ4yY",
        "colab": {
          "base_uri": "https://localhost:8080/"
        },
        "outputId": "458c4339-0d21-4be6-c216-40fe5d012e35"
      },
      "outputs": [
        {
          "output_type": "stream",
          "name": "stdout",
          "text": [
            "[[[0. 0. 0.]\n",
            "  [0. 0. 0.]\n",
            "  [0. 0. 0.]\n",
            "  ...\n",
            "  [0. 0. 0.]\n",
            "  [0. 0. 0.]\n",
            "  [0. 0. 0.]]\n",
            "\n",
            " [[0. 0. 0.]\n",
            "  [0. 0. 0.]\n",
            "  [0. 0. 0.]\n",
            "  ...\n",
            "  [0. 0. 0.]\n",
            "  [0. 0. 0.]\n",
            "  [0. 0. 0.]]\n",
            "\n",
            " [[0. 0. 0.]\n",
            "  [0. 0. 0.]\n",
            "  [0. 0. 0.]\n",
            "  ...\n",
            "  [0. 0. 0.]\n",
            "  [0. 0. 0.]\n",
            "  [0. 0. 0.]]\n",
            "\n",
            " ...\n",
            "\n",
            " [[0. 0. 0.]\n",
            "  [0. 0. 0.]\n",
            "  [0. 0. 0.]\n",
            "  ...\n",
            "  [0. 0. 0.]\n",
            "  [0. 0. 0.]\n",
            "  [0. 0. 0.]]\n",
            "\n",
            " [[0. 0. 0.]\n",
            "  [0. 0. 0.]\n",
            "  [0. 0. 0.]\n",
            "  ...\n",
            "  [0. 0. 0.]\n",
            "  [0. 0. 0.]\n",
            "  [0. 0. 0.]]\n",
            "\n",
            " [[0. 0. 0.]\n",
            "  [0. 0. 0.]\n",
            "  [0. 0. 0.]\n",
            "  ...\n",
            "  [0. 0. 0.]\n",
            "  [0. 0. 0.]\n",
            "  [0. 0. 0.]]]\n"
          ]
        }
      ],
      "source": [
        "#crear array lleno de ceros\n",
        "ej1 = np.zeros((1080,1920,3))\n",
        "print(ej1)\n"
      ]
    },
    {
      "cell_type": "code",
      "execution_count": 23,
      "metadata": {
        "id": "18NmqbLSJ4yZ",
        "colab": {
          "base_uri": "https://localhost:8080/"
        },
        "outputId": "3491cdc2-7c8e-4ac5-e599-2913896b9c0e"
      },
      "outputs": [
        {
          "output_type": "stream",
          "name": "stdout",
          "text": [
            "[[[9.1 9.1 9.1]\n",
            "  [9.1 9.1 9.1]\n",
            "  [9.1 9.1 9.1]\n",
            "  ...\n",
            "  [9.1 9.1 9.1]\n",
            "  [9.1 9.1 9.1]\n",
            "  [9.1 9.1 9.1]]\n",
            "\n",
            " [[9.1 9.1 9.1]\n",
            "  [9.1 9.1 9.1]\n",
            "  [9.1 9.1 9.1]\n",
            "  ...\n",
            "  [9.1 9.1 9.1]\n",
            "  [9.1 9.1 9.1]\n",
            "  [9.1 9.1 9.1]]\n",
            "\n",
            " [[9.1 9.1 9.1]\n",
            "  [9.1 9.1 9.1]\n",
            "  [9.1 9.1 9.1]\n",
            "  ...\n",
            "  [9.1 9.1 9.1]\n",
            "  [9.1 9.1 9.1]\n",
            "  [9.1 9.1 9.1]]\n",
            "\n",
            " ...\n",
            "\n",
            " [[9.1 9.1 9.1]\n",
            "  [9.1 9.1 9.1]\n",
            "  [9.1 9.1 9.1]\n",
            "  ...\n",
            "  [9.1 9.1 9.1]\n",
            "  [9.1 9.1 9.1]\n",
            "  [9.1 9.1 9.1]]\n",
            "\n",
            " [[9.1 9.1 9.1]\n",
            "  [9.1 9.1 9.1]\n",
            "  [9.1 9.1 9.1]\n",
            "  ...\n",
            "  [9.1 9.1 9.1]\n",
            "  [9.1 9.1 9.1]\n",
            "  [9.1 9.1 9.1]]\n",
            "\n",
            " [[9.1 9.1 9.1]\n",
            "  [9.1 9.1 9.1]\n",
            "  [9.1 9.1 9.1]\n",
            "  ...\n",
            "  [9.1 9.1 9.1]\n",
            "  [9.1 9.1 9.1]\n",
            "  [9.1 9.1 9.1]]]\n"
          ]
        }
      ],
      "source": [
        "#creamos un array lleno de un valor determinado (floats por ejemplo)\n",
        "ej2 = np.full((20,20,3), 9.1)\n",
        "print(ej2)"
      ]
    },
    {
      "cell_type": "code",
      "execution_count": 24,
      "metadata": {
        "id": "iIj6xYruJ4yZ",
        "colab": {
          "base_uri": "https://localhost:8080/"
        },
        "outputId": "c75a3748-44b1-4fe3-a376-f82dbe92cea4"
      },
      "outputs": [
        {
          "output_type": "stream",
          "name": "stdout",
          "text": [
            "[[1. 0. 0. 0. 0. 0. 0.]\n",
            " [0. 1. 0. 0. 0. 0. 0.]\n",
            " [0. 0. 1. 0. 0. 0. 0.]\n",
            " [0. 0. 0. 1. 0. 0. 0.]\n",
            " [0. 0. 0. 0. 1. 0. 0.]\n",
            " [0. 0. 0. 0. 0. 1. 0.]\n",
            " [0. 0. 0. 0. 0. 0. 1.]]\n"
          ]
        }
      ],
      "source": [
        "#creando un array de 2x2 condiagonal en \"unos\" y el resto cero\n",
        "ej3 = np.eye(7,7)\n",
        "print(ej3)"
      ]
    },
    {
      "cell_type": "code",
      "execution_count": 25,
      "metadata": {
        "id": "k_2TUe7yJ4ya",
        "colab": {
          "base_uri": "https://localhost:8080/"
        },
        "outputId": "83cbffec-38d8-4c70-c5e4-79d2279aac4a"
      },
      "outputs": [
        {
          "output_type": "stream",
          "name": "stdout",
          "text": [
            "[[[1. 1.]\n",
            "  [1. 1.]\n",
            "  [1. 1.]\n",
            "  [1. 1.]\n",
            "  [1. 1.]\n",
            "  [1. 1.]\n",
            "  [1. 1.]]\n",
            "\n",
            " [[1. 1.]\n",
            "  [1. 1.]\n",
            "  [1. 1.]\n",
            "  [1. 1.]\n",
            "  [1. 1.]\n",
            "  [1. 1.]\n",
            "  [1. 1.]]\n",
            "\n",
            " [[1. 1.]\n",
            "  [1. 1.]\n",
            "  [1. 1.]\n",
            "  [1. 1.]\n",
            "  [1. 1.]\n",
            "  [1. 1.]\n",
            "  [1. 1.]]\n",
            "\n",
            " [[1. 1.]\n",
            "  [1. 1.]\n",
            "  [1. 1.]\n",
            "  [1. 1.]\n",
            "  [1. 1.]\n",
            "  [1. 1.]\n",
            "  [1. 1.]]\n",
            "\n",
            " [[1. 1.]\n",
            "  [1. 1.]\n",
            "  [1. 1.]\n",
            "  [1. 1.]\n",
            "  [1. 1.]\n",
            "  [1. 1.]\n",
            "  [1. 1.]]\n",
            "\n",
            " [[1. 1.]\n",
            "  [1. 1.]\n",
            "  [1. 1.]\n",
            "  [1. 1.]\n",
            "  [1. 1.]\n",
            "  [1. 1.]\n",
            "  [1. 1.]]\n",
            "\n",
            " [[1. 1.]\n",
            "  [1. 1.]\n",
            "  [1. 1.]\n",
            "  [1. 1.]\n",
            "  [1. 1.]\n",
            "  [1. 1.]\n",
            "  [1. 1.]]\n",
            "\n",
            " [[1. 1.]\n",
            "  [1. 1.]\n",
            "  [1. 1.]\n",
            "  [1. 1.]\n",
            "  [1. 1.]\n",
            "  [1. 1.]\n",
            "  [1. 1.]]\n",
            "\n",
            " [[1. 1.]\n",
            "  [1. 1.]\n",
            "  [1. 1.]\n",
            "  [1. 1.]\n",
            "  [1. 1.]\n",
            "  [1. 1.]\n",
            "  [1. 1.]]\n",
            "\n",
            " [[1. 1.]\n",
            "  [1. 1.]\n",
            "  [1. 1.]\n",
            "  [1. 1.]\n",
            "  [1. 1.]\n",
            "  [1. 1.]\n",
            "  [1. 1.]]]\n"
          ]
        }
      ],
      "source": [
        "#creando un array de \"unos\"\n",
        "ej4 = np.ones((10,7,2))\n",
        "print(ej4)"
      ]
    },
    {
      "cell_type": "code",
      "execution_count": 26,
      "metadata": {
        "id": "tm1zXTF4J4yb",
        "colab": {
          "base_uri": "https://localhost:8080/"
        },
        "outputId": "395b5425-c90e-4736-d168-02442db2ea85"
      },
      "outputs": [
        {
          "output_type": "stream",
          "name": "stdout",
          "text": [
            "[[0.08376481 0.68487028 0.78664704 0.37150403 0.16819783]\n",
            " [0.04984348 0.41111523 0.69610869 0.65759328 0.32334267]\n",
            " [0.20235632 0.34794585 0.28233444 0.33779702 0.55650427]\n",
            " [0.79594911 0.7001144  0.00415788 0.16959442 0.54866565]\n",
            " [0.15575832 0.17485195 0.03275288 0.17843955 0.93493396]]\n"
          ]
        }
      ],
      "source": [
        "# creamos un array de flotantes aleatorios entre 0 y 1\n",
        "ej5 = np.random.random((5,5))\n",
        "print(ej5)"
      ]
    },
    {
      "cell_type": "markdown",
      "metadata": {
        "id": "uaw9pMh1J4yb"
      },
      "source": [
        "\n",
        "### Slicing\n",
        "El \"slicing\" en NumPy se refiere a la técnica de extraer porciones de un arreglo multidimensional. Es una forma eficiente y potente de acceder y manipular datos en arreglos NumPy. El slicing se realiza mediante la especificación de rangos a lo largo de cada dimensión del arreglo."
      ]
    },
    {
      "cell_type": "code",
      "source": [
        "\n",
        "# Crear un arreglo multidimensional de ejemplo\n",
        "arr = np.array([[1, 2, 3], [4, 5, 6], [7, 8, 9]])\n",
        "print(arr)\n",
        "print('')\n",
        "# Slicing en una dimensión\n",
        "result_1d = arr[1, :]  # Obtener la segunda fila completa\n",
        "# Resultado: array([4, 5, 6])\n",
        "print(result_1d)\n",
        "print('')\n",
        "\n",
        "# Slicing en dos dimensiones\n",
        "result_2d = arr[:2, 1:]  # Obtener las dos primeras filas y las columnas de la segunda en adelante\n",
        "# Resultado: array([[2, 3],\n",
        "#                  [5, 6]])\n",
        "print(result_2d)\n",
        "print('')\n",
        "\n",
        "# Slicing con pasos\n",
        "result_step = arr[::2, ::2]  # Obtener cada segunda fila y columna\n",
        "# Resultado: array([[1, 3],\n",
        "#                  [7, 9]])\n",
        "print(result_step)\n",
        "print('')\n"
      ],
      "metadata": {
        "colab": {
          "base_uri": "https://localhost:8080/"
        },
        "id": "U-pYYUoaPy7G",
        "outputId": "863e3613-f275-42c7-831a-f90fd00221b7"
      },
      "execution_count": 39,
      "outputs": [
        {
          "output_type": "stream",
          "name": "stdout",
          "text": [
            "[[1 2 3]\n",
            " [4 5 6]\n",
            " [7 8 9]]\n",
            "\n",
            "[4 5 6]\n",
            "\n",
            "[[2 3]\n",
            " [5 6]]\n",
            "\n",
            "[[1 3]\n",
            " [7 9]]\n",
            "\n"
          ]
        }
      ]
    },
    {
      "cell_type": "code",
      "execution_count": 27,
      "metadata": {
        "id": "94NIgPsvJ4yc",
        "outputId": "4872e42e-710f-4028-a917-c981213d5a66",
        "colab": {
          "base_uri": "https://localhost:8080/"
        }
      },
      "outputs": [
        {
          "output_type": "stream",
          "name": "stdout",
          "text": [
            "[[11 12 13 14 15 16]\n",
            " [21 22 23 24 25 26]\n",
            " [31 32 33 34 35 36]\n",
            " [41 42 43 44 45 46]]\n"
          ]
        }
      ],
      "source": [
        "un_array = np.array([[11,12,13,14,15,16], [21,22,23,24,25,26], [31,32,33,34,35,36],[41,42,43,44,45,46]])\n",
        "print(un_array)"
      ]
    },
    {
      "cell_type": "code",
      "execution_count": 33,
      "metadata": {
        "id": "4IGFzOB1J4yc",
        "outputId": "5b56dabd-df85-4696-bdad-7dadec2f199b",
        "colab": {
          "base_uri": "https://localhost:8080/"
        }
      },
      "outputs": [
        {
          "output_type": "stream",
          "name": "stdout",
          "text": [
            "[[112  13]\n",
            " [ 22  23]]\n"
          ]
        }
      ],
      "source": [
        "# Slice de 2 x 2 a partir de \"un_array\"\n",
        "un_slice = un_array[:2,1:3]\n",
        "print(un_slice)"
      ]
    },
    {
      "cell_type": "code",
      "execution_count": 34,
      "metadata": {
        "id": "ISI6rUdSJ4yd",
        "outputId": "43a06d98-c3a2-4d91-b72d-30ff573bd0da",
        "colab": {
          "base_uri": "https://localhost:8080/"
        }
      },
      "outputs": [
        {
          "output_type": "stream",
          "name": "stdout",
          "text": [
            "Slice: 112\n"
          ]
        }
      ],
      "source": [
        "# Valor fila 0 columna 0 del slice\n",
        "# El slice genera un nuevo índice\n",
        "print(\"Slice:\", un_slice[0, 0])"
      ]
    },
    {
      "cell_type": "code",
      "execution_count": 35,
      "metadata": {
        "id": "gJfW8prNJ4yd",
        "outputId": "f125e616-1215-4110-cf7c-9c0027479258",
        "colab": {
          "base_uri": "https://localhost:8080/"
        }
      },
      "outputs": [
        {
          "output_type": "stream",
          "name": "stdout",
          "text": [
            "Slice: 212\n"
          ]
        }
      ],
      "source": [
        "# Suma de 100 al valor de la posicion (0,0) del slice\n",
        "un_slice[0,0] += 100\n",
        "print(\"Slice:\", un_slice[0, 0])"
      ]
    },
    {
      "cell_type": "code",
      "execution_count": 31,
      "metadata": {
        "id": "zWFQPhx3J4ye",
        "outputId": "a45a27d6-610b-4350-e75e-3df2ad44eabb",
        "colab": {
          "base_uri": "https://localhost:8080/"
        }
      },
      "outputs": [
        {
          "output_type": "stream",
          "name": "stdout",
          "text": [
            "Array original: 112\n"
          ]
        }
      ],
      "source": [
        "#hora imprimamos la posición (0,1) del array original,\n",
        "print(\"Array original:\", un_array[0, 1])"
      ]
    },
    {
      "cell_type": "markdown",
      "metadata": {
        "id": "Ca-dNo7xJ4ye"
      },
      "source": [
        "¿cómo, pero si al array original no lo tocamos?"
      ]
    },
    {
      "cell_type": "code",
      "execution_count": 41,
      "metadata": {
        "id": "tN-sdqhcJ4yf",
        "outputId": "6f25b4c9-0064-47b6-fe32-79c53378fab7",
        "colab": {
          "base_uri": "https://localhost:8080/"
        }
      },
      "outputs": [
        {
          "output_type": "stream",
          "name": "stdout",
          "text": [
            "[[ 11 212  13  14  15  16]\n",
            " [ 21  22  23  24  25  26]\n",
            " [ 31  32  33  34  35  36]\n",
            " [ 41  42  43  44  45  46]]\n"
          ]
        },
        {
          "output_type": "execute_result",
          "data": {
            "text/plain": [
              "numpy.ndarray"
            ]
          },
          "metadata": {},
          "execution_count": 41
        }
      ],
      "source": [
        "# Un slice, no es más que un puntero o acceso directo al array original,\\\n",
        "# Si modificamos el slice en realidad estaremos modificando el array original.\n",
        "print(un_array)\n",
        "type(un_slice)"
      ]
    },
    {
      "cell_type": "markdown",
      "metadata": {
        "id": "Up_gfn9VJ4yf"
      },
      "source": [
        "¿Y si necesitasemos tener un nuevo array a partir de un slice?"
      ]
    },
    {
      "cell_type": "code",
      "execution_count": 42,
      "metadata": {
        "id": "BT38qrSxJ4yf",
        "outputId": "8e99680d-959f-4adf-a58b-826659e5df05",
        "colab": {
          "base_uri": "https://localhost:8080/"
        }
      },
      "outputs": [
        {
          "output_type": "stream",
          "name": "stdout",
          "text": [
            "[[212  13]\n",
            " [ 22  23]]\n"
          ]
        }
      ],
      "source": [
        "nuevo_array = np.array(un_slice)\n",
        "print(nuevo_array)"
      ]
    },
    {
      "cell_type": "code",
      "execution_count": 43,
      "metadata": {
        "id": "dc8ay3Z9J4yh",
        "colab": {
          "base_uri": "https://localhost:8080/"
        },
        "outputId": "6bc3a1cd-3406-479e-ab7e-1591390d8505"
      },
      "outputs": [
        {
          "output_type": "stream",
          "name": "stdout",
          "text": [
            "[21 22 23 24 25 26] (6,)\n"
          ]
        }
      ],
      "source": [
        "# Una sola fila, entonces el slice será unidimensional.\n",
        "row_rank1 = un_array[1, :]\n",
        "print(row_rank1, row_rank1.shape)"
      ]
    },
    {
      "cell_type": "code",
      "execution_count": 44,
      "metadata": {
        "id": "KvXp4T-dJ4yi",
        "colab": {
          "base_uri": "https://localhost:8080/"
        },
        "outputId": "b4ee097c-1bbc-455c-89c3-0d651162a6fe"
      },
      "outputs": [
        {
          "output_type": "stream",
          "name": "stdout",
          "text": [
            "[212  22  32  42] (4,)\n"
          ]
        }
      ],
      "source": [
        "# Lo mimso podemos hacer con una columna\n",
        "row_rank1 = un_array[:, 1]\n",
        "print(row_rank1, row_rank1.shape)"
      ]
    },
    {
      "cell_type": "markdown",
      "metadata": {
        "id": "FbiOIU1fJ4yj"
      },
      "source": [
        "### Array de índices\n",
        "A veces es útil, preparar una serie de índices en un array, para luego utilizarlos para operar sobre otro."
      ]
    },
    {
      "cell_type": "code",
      "execution_count": 45,
      "metadata": {
        "id": "SvcRyMSgJ4yj",
        "outputId": "005029e4-8dd9-4c94-a9be-db1d854058a8",
        "colab": {
          "base_uri": "https://localhost:8080/"
        }
      },
      "outputs": [
        {
          "output_type": "stream",
          "name": "stdout",
          "text": [
            "[[11 12 13]\n",
            " [21 22 23]\n",
            " [31 32 33]\n",
            " [41 42 43]]\n",
            "(4, 3)\n"
          ]
        }
      ],
      "source": [
        "# Creamos un nuevo array\n",
        "array_a = np.array([[11,12,13], [21,22,23], [31,32,33], [41,42,43]])\n",
        "print(array_a)\n",
        "print(array_a.shape)"
      ]
    },
    {
      "cell_type": "code",
      "execution_count": 46,
      "metadata": {
        "id": "kbYcfdj9J4yl",
        "outputId": "6fc9afff-c85c-4d49-9af2-df836a905727",
        "colab": {
          "base_uri": "https://localhost:8080/"
        }
      },
      "outputs": [
        {
          "output_type": "stream",
          "name": "stdout",
          "text": [
            "Elegimos estos índices para filas -> [0 1 2 3]\n",
            "Elegimos estos índices para columnas -> [0 1 2 0]\n"
          ]
        }
      ],
      "source": [
        "# Creamos 2 arrays con números enteros que usaremos como indices\n",
        "cols = np.array([0,1,2,0])\n",
        "rows = np.arange(4)\n",
        "print(\"Elegimos estos índices para filas ->\", rows)\n",
        "print(\"Elegimos estos índices para columnas ->\", cols)\n"
      ]
    },
    {
      "cell_type": "code",
      "execution_count": 48,
      "metadata": {
        "id": "qFNkKMEwJ4yl",
        "outputId": "a2e79a14-76cb-4577-8a05-f618950eede8",
        "colab": {
          "base_uri": "https://localhost:8080/"
        }
      },
      "outputs": [
        {
          "output_type": "stream",
          "name": "stdout",
          "text": [
            "(0, 0)\n",
            "(1, 1)\n",
            "(2, 2)\n",
            "(3, 0)\n"
          ]
        }
      ],
      "source": [
        "# índices tomando uno de cada array, pares\n",
        "for row,col in zip(rows,cols):\n",
        "    print('({}, {})'.format(row, col))"
      ]
    },
    {
      "cell_type": "code",
      "execution_count": 50,
      "metadata": {
        "id": "BnkwHLr9J4ym",
        "outputId": "fb7de554-ea78-4ba3-a8ce-8fec78c8077c",
        "colab": {
          "base_uri": "https://localhost:8080/"
        }
      },
      "outputs": [
        {
          "output_type": "stream",
          "name": "stdout",
          "text": [
            "Los valores contenidos en los índices son:  [11 22 33 41]\n"
          ]
        }
      ],
      "source": [
        "# Seleccionar un elemento de cada fila, hacemos de esta manera\n",
        "print('Los valores contenidos en los índices son: ', array_a[rows, cols])"
      ]
    },
    {
      "cell_type": "code",
      "execution_count": 51,
      "metadata": {
        "id": "BuAYSpDCJ4ym",
        "outputId": "939f5794-6049-472e-b6bf-48bbd692e57e",
        "colab": {
          "base_uri": "https://localhost:8080/"
        }
      },
      "outputs": [
        {
          "output_type": "stream",
          "name": "stdout",
          "text": [
            "[[11 12 13]\n",
            " [21 22 23]\n",
            " [31 32 33]\n",
            " [41 42 43]]\n",
            "[[1011   12   13]\n",
            " [  21 1022   23]\n",
            " [  31   32 1033]\n",
            " [1041   42   43]]\n"
          ]
        }
      ],
      "source": [
        "# Operar con los valores seleccionados\n",
        "print(array_a)\n",
        "array_a[rows, cols] += 1000\n",
        "print(array_a)"
      ]
    },
    {
      "cell_type": "markdown",
      "metadata": {
        "id": "9OJ6QpgiJ4yn"
      },
      "source": [
        "### Indexado Booleano\n",
        "Indexado booleano para cambiar elementos"
      ]
    },
    {
      "cell_type": "code",
      "execution_count": null,
      "metadata": {
        "id": "vmilA_mTJ4yn",
        "outputId": "e08e61bf-3992-44ea-e1aa-88ac1a667327"
      },
      "outputs": [
        {
          "name": "stdout",
          "output_type": "stream",
          "text": [
            "[[11 12]\n",
            " [21 22]\n",
            " [31 32]]\n",
            "______________\n",
            "(3, 2)\n"
          ]
        }
      ],
      "source": [
        "# Creamos un array de 3x2\n",
        "array_b = np.array([[11,12], [21, 22], [31, 32]])\n",
        "print(array_b)\n",
        "print(\"______________\")\n",
        "print(array_b.shape)"
      ]
    },
    {
      "cell_type": "code",
      "execution_count": null,
      "metadata": {
        "id": "uJyVpzLaJ4yo",
        "outputId": "540bfdb9-6127-455d-df08-b499e097e19b"
      },
      "outputs": [
        {
          "data": {
            "text/plain": [
              "array([[False, False],\n",
              "       [ True,  True],\n",
              "       [ True,  True]])"
            ]
          },
          "execution_count": 9,
          "metadata": {},
          "output_type": "execute_result"
        }
      ],
      "source": [
        "# Crear un filtro es muy facil en numpy\n",
        "filtro = (array_b > 15)\n",
        "filtro"
      ]
    },
    {
      "cell_type": "code",
      "execution_count": null,
      "metadata": {
        "id": "Gvn6bjhaJ4yo",
        "outputId": "aff2dc18-6145-48fd-c97d-4ba67c1a70ee"
      },
      "outputs": [
        {
          "name": "stdout",
          "output_type": "stream",
          "text": [
            "[21 22 31 32]\n"
          ]
        }
      ],
      "source": [
        "# Entonces ahora podemos aplicar el filtro a nuestro array\n",
        "filtrado = array_b[filtro]\n",
        "print(filtrado)"
      ]
    },
    {
      "cell_type": "code",
      "execution_count": null,
      "metadata": {
        "id": "tzZB8wL1J4yp",
        "outputId": "a7da406d-3dd0-4e27-e0fd-4969979d5283"
      },
      "outputs": [
        {
          "name": "stdout",
          "output_type": "stream",
          "text": [
            "[12 22 32]\n"
          ]
        }
      ],
      "source": [
        "# No es necesario primero crear el filtro y luego aplicarlo, podemos hacerlo al unísono\n",
        "print(array_b[(array_b % 2 == 0)])"
      ]
    },
    {
      "cell_type": "markdown",
      "metadata": {
        "id": "kDKXFuS9J4yp"
      },
      "source": [
        "El uso principal de este tipo de filtros es el de poder modificar los valores del array que cumplan cierto criterio"
      ]
    },
    {
      "cell_type": "code",
      "execution_count": null,
      "metadata": {
        "id": "6yljE2_nJ4yp",
        "outputId": "7fed8b42-a4a1-4436-8f43-001ca6b67407"
      },
      "outputs": [
        {
          "name": "stdout",
          "output_type": "stream",
          "text": [
            "[[  11 1012]\n",
            " [  21 1022]\n",
            " [  31 1032]]\n"
          ]
        }
      ],
      "source": [
        "array_b[array_b % 2 == 0] += 1000\n",
        "print(array_b)"
      ]
    },
    {
      "cell_type": "markdown",
      "metadata": {
        "id": "YoriUOPEJ4y1"
      },
      "source": [
        "### Tipos de datos en arrays"
      ]
    },
    {
      "cell_type": "code",
      "execution_count": null,
      "metadata": {
        "id": "_mq8o_nWJ4y2",
        "outputId": "b63c6194-442b-4ca1-c9f1-42df5d82f840"
      },
      "outputs": [
        {
          "name": "stdout",
          "output_type": "stream",
          "text": [
            "int64\n"
          ]
        }
      ],
      "source": [
        "# En este caso python se encarga de asignar el tipo de dato\n",
        "ej1 = np.array([11, 12])\n",
        "print(ej1.dtype)"
      ]
    },
    {
      "cell_type": "code",
      "execution_count": null,
      "metadata": {
        "id": "B-ZfYX6RJ4y2",
        "outputId": "03ab65af-f679-4d42-e4b5-3d9242ca53b4"
      },
      "outputs": [
        {
          "name": "stdout",
          "output_type": "stream",
          "text": [
            "float64\n"
          ]
        }
      ],
      "source": [
        "# Python asigna el tipo de dato\n",
        "ej2 = np.array([11.0, 12.0])\n",
        "print(ej2.dtype)"
      ]
    },
    {
      "cell_type": "code",
      "execution_count": null,
      "metadata": {
        "id": "oKPG7yIsJ4y3",
        "outputId": "8bf1d642-0b97-4908-cafe-cfa8fb06299a"
      },
      "outputs": [
        {
          "name": "stdout",
          "output_type": "stream",
          "text": [
            "float64\n"
          ]
        }
      ],
      "source": [
        "# También puedo forzar el tipo de dato expresándolo de manera explícita\n",
        "ej3 = np.array([11, 21], dtype=np.float64)\n",
        "print(ej3.dtype)"
      ]
    },
    {
      "cell_type": "code",
      "execution_count": null,
      "metadata": {
        "id": "vmp4e1I6J4y3",
        "outputId": "844a526f-07ec-47f6-a1db-c8f2cf57794d"
      },
      "outputs": [
        {
          "name": "stdout",
          "output_type": "stream",
          "text": [
            "int64\n",
            "\n",
            "[11 12]\n"
          ]
        }
      ],
      "source": [
        "# Si lo necesitáramos podríamos forzar flotantes a enteros\n",
        "ej4 = np.array([11.1,12.7], dtype=np.int64)\n",
        "print(ej4.dtype)\n",
        "print()\n",
        "print(ej4)"
      ]
    },
    {
      "cell_type": "markdown",
      "metadata": {
        "id": "LBD2ZsdlJ4y4"
      },
      "source": [
        "### Operaciones Aritméticas"
      ]
    },
    {
      "cell_type": "code",
      "execution_count": null,
      "metadata": {
        "id": "FC0CFJaIJ4y4",
        "outputId": "658f9017-d7e5-4568-e72d-ee044b2dd528"
      },
      "outputs": [
        {
          "name": "stdout",
          "output_type": "stream",
          "text": [
            "[[111 112]\n",
            " [121 122]]\n",
            "\n",
            "[[211.1 212.1]\n",
            " [221.1 222.1]]\n"
          ]
        }
      ],
      "source": [
        "x = np.array([[111,112],[121,122]], dtype=np.int)\n",
        "y = np.array([[211.1,212.1],[221.1,222.1]], dtype=np.float64)\n",
        "\n",
        "print(x)\n",
        "print()\n",
        "print(y)"
      ]
    },
    {
      "cell_type": "code",
      "execution_count": null,
      "metadata": {
        "id": "ojrkc1U7J4y4",
        "outputId": "fdea75d8-73f8-4b20-dfcb-4098cbd8d7c8"
      },
      "outputs": [
        {
          "name": "stdout",
          "output_type": "stream",
          "text": [
            "[[-100.1 -100.1]\n",
            " [-100.1 -100.1]]\n",
            "\n",
            "[[-100.1 -100.1]\n",
            " [-100.1 -100.1]]\n"
          ]
        }
      ],
      "source": [
        "# resta\n",
        "print(x - y)\n",
        "print()\n",
        "print(np.subtract(x, y))"
      ]
    },
    {
      "cell_type": "code",
      "execution_count": null,
      "metadata": {
        "id": "HSjay_p4J4y5",
        "outputId": "149436cb-0b9c-46d4-c268-13f1ff8996f2"
      },
      "outputs": [
        {
          "name": "stdout",
          "output_type": "stream",
          "text": [
            "[[23432.1 23755.2]\n",
            " [26753.1 27096.2]]\n",
            "\n",
            "[[23432.1 23755.2]\n",
            " [26753.1 27096.2]]\n"
          ]
        }
      ],
      "source": [
        "# multiplicación\n",
        "print(x * y)\n",
        "print()\n",
        "print(np.multiply(x, y))"
      ]
    },
    {
      "cell_type": "code",
      "execution_count": null,
      "metadata": {
        "id": "lV9Mm6vEJ4y5",
        "outputId": "814c1c4d-91bf-41b9-f398-8fae1236b91b"
      },
      "outputs": [
        {
          "name": "stdout",
          "output_type": "stream",
          "text": [
            "[[0.52581715 0.52805281]\n",
            " [0.54726368 0.54930212]]\n",
            "\n",
            "[[0.52581715 0.52805281]\n",
            " [0.54726368 0.54930212]]\n"
          ]
        }
      ],
      "source": [
        "# división\n",
        "print(x / y)\n",
        "print()\n",
        "print(np.divide(x, y))"
      ]
    },
    {
      "cell_type": "code",
      "execution_count": null,
      "metadata": {
        "id": "3MubZCM5J4y5",
        "outputId": "1f1f4c83-3f90-4e9d-fb7f-164b3074ddf5"
      },
      "outputs": [
        {
          "name": "stdout",
          "output_type": "stream",
          "text": [
            "[[10.53565375 10.58300524]\n",
            " [11.         11.04536102]]\n"
          ]
        }
      ],
      "source": [
        "# raíz cuadrada\n",
        "print(np.sqrt(x))"
      ]
    },
    {
      "cell_type": "markdown",
      "metadata": {
        "id": "CzxaF5MFJ4y6"
      },
      "source": [
        "### Operaciones Estadísticas Básicas"
      ]
    },
    {
      "cell_type": "code",
      "execution_count": null,
      "metadata": {
        "id": "qrp1NBLsJ4y6",
        "outputId": "195ea18e-b600-4a11-ea54-c42687e25d72"
      },
      "outputs": [
        {
          "name": "stdout",
          "output_type": "stream",
          "text": [
            "[[  6.22566282   1.71715481  -5.97700343  -2.23772028 -13.84514728]\n",
            " [ -8.83252814  -4.20879828  -6.57183308   2.08740774  12.24079493]]\n"
          ]
        }
      ],
      "source": [
        "# Generar un array aleatorio\n",
        "arr = 10 * np.random.randn(2,5)\n",
        "print(arr)"
      ]
    },
    {
      "cell_type": "code",
      "execution_count": null,
      "metadata": {
        "id": "g39_1-NQJ4y7",
        "outputId": "0237893a-75d9-4a2b-eefa-08b930d54843"
      },
      "outputs": [
        {
          "name": "stdout",
          "output_type": "stream",
          "text": [
            "-1.9402010174617392\n"
          ]
        }
      ],
      "source": [
        "# Calcular la media (promedio) de un array\n",
        "print(arr.mean())"
      ]
    },
    {
      "cell_type": "code",
      "execution_count": null,
      "metadata": {
        "id": "hMQTwwxoJ4y7",
        "outputId": "56fbb620-798f-4682-9140-c14360ad4f48"
      },
      "outputs": [
        {
          "name": "stdout",
          "output_type": "stream",
          "text": [
            "[-2.82341067 -1.05699137]\n"
          ]
        }
      ],
      "source": [
        "# Calcular el promedio pero en este caso, fila por fila\n",
        "# eje 0 = columnas\n",
        "# eje 1 = filas\n",
        "print(arr.mean(axis = 1))"
      ]
    },
    {
      "cell_type": "code",
      "execution_count": null,
      "metadata": {
        "id": "e3gWlhxKJ4y8",
        "outputId": "3d56aac9-795c-4f12-c3ca-cbec0eed6021"
      },
      "outputs": [
        {
          "name": "stdout",
          "output_type": "stream",
          "text": [
            "[-1.30343266 -1.24582173 -6.27441825 -0.07515627 -0.80217617]\n"
          ]
        }
      ],
      "source": [
        "# Calcular el promedio pero en este caso, columna por columna\n",
        "print(arr.mean(axis = 0))"
      ]
    },
    {
      "cell_type": "code",
      "execution_count": null,
      "metadata": {
        "id": "0lR4R4xcJ4y8",
        "outputId": "88eeca05-9e57-4567-a425-a11d0798c7a5"
      },
      "outputs": [
        {
          "name": "stdout",
          "output_type": "stream",
          "text": [
            "[-0.50481956  0.84723547  0.25878339  1.02775831 -0.29779126 -1.88978477\n",
            " -2.4558705  -0.89016547 -0.33669383 -0.37651619]\n"
          ]
        }
      ],
      "source": [
        "# Creamos array de 10 elementos aleatorios\n",
        "desordenado = np.random.randn(10)\n",
        "print(desordenado)"
      ]
    },
    {
      "cell_type": "code",
      "execution_count": null,
      "metadata": {
        "id": "rOMWtA3HJ4y8",
        "outputId": "ed4bd741-fcb8-49de-8b7c-25ab393a6480"
      },
      "outputs": [
        {
          "name": "stdout",
          "output_type": "stream",
          "text": [
            "[-2.4558705  -1.88978477 -0.89016547 -0.50481956 -0.37651619 -0.33669383\n",
            " -0.29779126  0.25878339  0.84723547  1.02775831]\n"
          ]
        }
      ],
      "source": [
        "# Creamos una copia\n",
        "ordenado = np.array(desordenado)\n",
        "\n",
        "# Lo ordenamos\n",
        "ordenado.sort()\n",
        "print(ordenado)"
      ]
    },
    {
      "cell_type": "code",
      "execution_count": null,
      "metadata": {
        "id": "xJkWoYOkJ4y9",
        "outputId": "2c51c4c0-60e9-4a4b-e85e-0e24be81f6dd"
      },
      "outputs": [
        {
          "name": "stdout",
          "output_type": "stream",
          "text": [
            "[1 2 4]\n"
          ]
        }
      ],
      "source": [
        "# Buscando elementos únicos\n",
        "array = np.array([1,2,1,4,2,1,4,2])\n",
        "print(np.unique(array))"
      ]
    },
    {
      "cell_type": "code",
      "execution_count": null,
      "metadata": {
        "id": "zwT11SAAJ4y9",
        "outputId": "34be4a8d-8695-40f3-8ba0-ddc0c7474b9c"
      },
      "outputs": [
        {
          "name": "stdout",
          "output_type": "stream",
          "text": [
            "['escritorio' 'silla' 'mesa']\n",
            "['escritorio' 'silla' 'lampara']\n"
          ]
        }
      ],
      "source": [
        "# OPERACIONES DE CONJUNTO\n",
        "s1 = np.array(['escritorio','silla','mesa'])\n",
        "s2 = np.array(['escritorio','silla','lampara'])\n",
        "print(s1)\n",
        "print(s2)"
      ]
    },
    {
      "cell_type": "code",
      "execution_count": null,
      "metadata": {
        "id": "ZCk0BkXgJ4y-",
        "outputId": "7ca852d9-74a9-4a69-8b45-920404e41a64"
      },
      "outputs": [
        {
          "name": "stdout",
          "output_type": "stream",
          "text": [
            "['escritorio' 'silla']\n"
          ]
        }
      ],
      "source": [
        "# Intersección\n",
        "print( np.intersect1d(s1, s2) )"
      ]
    },
    {
      "cell_type": "code",
      "execution_count": null,
      "metadata": {
        "id": "Ayc2zAc0J4y-",
        "outputId": "2963013e-ea90-41d7-a15a-898195aeaec1"
      },
      "outputs": [
        {
          "name": "stdout",
          "output_type": "stream",
          "text": [
            "['escritorio' 'lampara' 'mesa' 'silla']\n"
          ]
        }
      ],
      "source": [
        "# Union en 1d\n",
        "print( np.union1d(s1, s2) )"
      ]
    },
    {
      "cell_type": "code",
      "execution_count": null,
      "metadata": {
        "id": "2eRbUUxAJ4y-",
        "outputId": "43aa8b55-f709-4541-e150-a25762407a49"
      },
      "outputs": [
        {
          "name": "stdout",
          "output_type": "stream",
          "text": [
            "['mesa']\n"
          ]
        }
      ],
      "source": [
        "# Elementos de s1 que no están en s2\n",
        "print( np.setdiff1d(s1, s2) )"
      ]
    },
    {
      "cell_type": "code",
      "execution_count": null,
      "metadata": {
        "id": "CGxkK7DeJ4y_",
        "outputId": "d7abb28b-8e82-49e4-af2c-d7399bea3f5c"
      },
      "outputs": [
        {
          "name": "stdout",
          "output_type": "stream",
          "text": [
            "[ True  True False]\n"
          ]
        }
      ],
      "source": [
        "# que elementos de s1 están en s2\n",
        "print( np.in1d(s1, s2) )"
      ]
    },
    {
      "cell_type": "markdown",
      "metadata": {
        "id": "xJW2pdNVJ4y_"
      },
      "source": [
        "### Algunas operaciones frecuentes\n"
      ]
    },
    {
      "cell_type": "code",
      "execution_count": null,
      "metadata": {
        "id": "WUi2QJScJ4zA",
        "outputId": "b79bebc5-93f9-47e6-e221-137892d2c1b2"
      },
      "outputs": [
        {
          "name": "stdout",
          "output_type": "stream",
          "text": [
            "66\n"
          ]
        }
      ],
      "source": [
        "# Sumamos todos los elementos de un array\n",
        "ex1 = np.array([[11,12],[21,22]])\n",
        "print(np.sum(ex1))"
      ]
    },
    {
      "cell_type": "code",
      "execution_count": null,
      "metadata": {
        "id": "NqgLuN1iJ4zA",
        "outputId": "f8c9cb2a-ad19-4da9-ed58-44d6d64d6b12"
      },
      "outputs": [
        {
          "name": "stdout",
          "output_type": "stream",
          "text": [
            "[32 34]\n",
            "[23 43]\n"
          ]
        }
      ],
      "source": [
        "# Sumamos solo una columna\n",
        "print(np.sum(ex1, axis=0))\n",
        "# ¿cómo sumaríamos una fila?\n",
        "print(np.sum(ex1, axis=1))"
      ]
    },
    {
      "cell_type": "markdown",
      "metadata": {
        "id": "0TvQIXo2J4zB"
      },
      "source": [
        "Reformateando un array"
      ]
    },
    {
      "cell_type": "code",
      "execution_count": null,
      "metadata": {
        "id": "Omh5A21xJ4zC",
        "outputId": "3826632a-715a-4c48-96b5-69b7e45fee39"
      },
      "outputs": [
        {
          "name": "stdout",
          "output_type": "stream",
          "text": [
            "[ 0  1  2  3  4  5  6  7  8  9 10 11 12 13 14 15 16 17 18 19]\n"
          ]
        },
        {
          "data": {
            "text/plain": [
              "(20,)"
            ]
          },
          "execution_count": 36,
          "metadata": {},
          "output_type": "execute_result"
        }
      ],
      "source": [
        "# Creamos un array\n",
        "arr = np.arange(20)\n",
        "print(arr)\n",
        "arr.shape"
      ]
    },
    {
      "cell_type": "code",
      "execution_count": null,
      "metadata": {
        "id": "O1VDCtW3J4zD",
        "outputId": "3cdecd8c-4d6a-4158-a673-c3b340fe0a86"
      },
      "outputs": [
        {
          "name": "stdout",
          "output_type": "stream",
          "text": [
            "[[ 0  1  2  3  4]\n",
            " [ 5  6  7  8  9]\n",
            " [10 11 12 13 14]\n",
            " [15 16 17 18 19]]\n"
          ]
        }
      ],
      "source": [
        "# Cambiamos su forma\n",
        "reshped_arr = arr.reshape(4,5)\n",
        "print(reshped_arr)"
      ]
    },
    {
      "cell_type": "code",
      "execution_count": null,
      "metadata": {
        "id": "zHea0km8J4zE",
        "outputId": "bbb46042-9954-48e6-95f6-31bbe1bcff51"
      },
      "outputs": [
        {
          "name": "stdout",
          "output_type": "stream",
          "text": [
            "[[11 12]\n",
            " [21 22]]\n"
          ]
        },
        {
          "data": {
            "text/plain": [
              "array([[11, 21],\n",
              "       [12, 22]])"
            ]
          },
          "execution_count": 38,
          "metadata": {},
          "output_type": "execute_result"
        }
      ],
      "source": [
        "# Transponer o transposicionar un array\n",
        "ex1 = np.array([[11,12],[21,22]])\n",
        "print(ex1)\n",
        "ex1.T\n",
        "\n"
      ]
    },
    {
      "cell_type": "code",
      "execution_count": null,
      "metadata": {
        "id": "f_FfHt92J4zF",
        "outputId": "e23dfc4b-e5c1-4942-edc8-b252e8aef6db"
      },
      "outputs": [
        {
          "data": {
            "text/plain": [
              "array([[0.48511215, 0.17515303, 0.11769138, 0.07259841],\n",
              "       [0.51654824, 0.25815866, 0.68641084, 0.45641839],\n",
              "       [0.06894296, 0.62049899, 0.45399776, 0.06725853],\n",
              "       [0.47325381, 0.14609518, 0.31266844, 0.6308256 ]])"
            ]
          },
          "execution_count": 39,
          "metadata": {},
          "output_type": "execute_result"
        }
      ],
      "source": [
        "# WHERE ...\n",
        "mat = np.random.rand(4,4)\n",
        "mat"
      ]
    },
    {
      "cell_type": "code",
      "execution_count": null,
      "metadata": {
        "id": "UNePkmDQJ4zG",
        "outputId": "1d181e5b-21ea-4604-ed89-ef6cbec0dbfb"
      },
      "outputs": [
        {
          "data": {
            "text/plain": [
              "array([[  -1,   -1,   -1,   -1],\n",
              "       [1000,   -1, 1000,   -1],\n",
              "       [  -1, 1000,   -1,   -1],\n",
              "       [  -1,   -1,   -1, 1000]])"
            ]
          },
          "execution_count": 40,
          "metadata": {},
          "output_type": "execute_result"
        }
      ],
      "source": [
        "# Le paso array condicion, valor si true, valor si false\n",
        "np.where( mat > 0.5, 1000, -1)"
      ]
    },
    {
      "cell_type": "code",
      "execution_count": null,
      "metadata": {
        "id": "i0_MCwvOJ4zH",
        "outputId": "140b683a-008e-46f3-af60-b61f53909f9e"
      },
      "outputs": [
        {
          "data": {
            "text/plain": [
              "False"
            ]
          },
          "execution_count": 45,
          "metadata": {},
          "output_type": "execute_result"
        }
      ],
      "source": [
        "# Comprobar si algun elemento del array es verdadero notar que funciona tanto con número\n",
        "arr_bools = np.array([ 0,0,0,0,0,0 ])\n",
        "arr_bools.any()"
      ]
    },
    {
      "cell_type": "code",
      "execution_count": null,
      "metadata": {
        "id": "abk1TK9bJ4zI",
        "outputId": "5cd821e2-0161-40f1-9a23-36c6f8119261"
      },
      "outputs": [
        {
          "data": {
            "text/plain": [
              "False"
            ]
          },
          "execution_count": 49,
          "metadata": {},
          "output_type": "execute_result"
        }
      ],
      "source": [
        "# Comprobar si todos los elementos del array son True\n",
        "arr_bools = np.array([ 1,1,0 ])\n",
        "arr_bools.all()"
      ]
    },
    {
      "cell_type": "markdown",
      "metadata": {
        "id": "Ly2eB4jwJ4zI"
      },
      "source": [
        "### Uniendo datasets"
      ]
    },
    {
      "cell_type": "code",
      "execution_count": null,
      "metadata": {
        "id": "rUNMc14TJ4zI",
        "outputId": "89343da4-baf9-4c1e-a108-42ef86740aaf"
      },
      "outputs": [
        {
          "name": "stdout",
          "output_type": "stream",
          "text": [
            "[[43 33]\n",
            " [45 44]]\n",
            "\n",
            "[[35 21]\n",
            " [ 2 40]]\n"
          ]
        }
      ],
      "source": [
        "K = np.random.randint(low=2,high=50,size=(2,2))\n",
        "print(K)\n",
        "\n",
        "print()\n",
        "M = np.random.randint(low=2,high=50,size=(2,2))\n",
        "print(M)\n"
      ]
    },
    {
      "cell_type": "code",
      "execution_count": null,
      "metadata": {
        "id": "81iXGTE-J4zJ",
        "outputId": "37cb31a9-ce74-4051-fbe5-16d10af454af"
      },
      "outputs": [
        {
          "data": {
            "text/plain": [
              "array([[43, 33],\n",
              "       [45, 44],\n",
              "       [35, 21],\n",
              "       [ 2, 40]])"
            ]
          },
          "execution_count": 51,
          "metadata": {},
          "output_type": "execute_result"
        }
      ],
      "source": [
        "# Unimos \"apilando\" verticalmente\n",
        "np.vstack((K,M))"
      ]
    },
    {
      "cell_type": "code",
      "execution_count": null,
      "metadata": {
        "id": "VE2tu7nnJ4zK",
        "outputId": "268f11a4-4bb0-403a-9f86-d67a89beb86a"
      },
      "outputs": [
        {
          "data": {
            "text/plain": [
              "array([[43, 33, 35, 21],\n",
              "       [45, 44,  2, 40]])"
            ]
          },
          "execution_count": 52,
          "metadata": {},
          "output_type": "execute_result"
        }
      ],
      "source": [
        "# Unimos \"apilando\" horizontamente\n",
        "np.hstack((K,M))"
      ]
    },
    {
      "cell_type": "code",
      "execution_count": null,
      "metadata": {
        "id": "MIi29y5PJ4zL",
        "outputId": "25f5c7dc-b10b-42f3-fdf7-a38548cabf40"
      },
      "outputs": [
        {
          "data": {
            "text/plain": [
              "array([[43, 33],\n",
              "       [45, 44],\n",
              "       [35, 21],\n",
              "       [ 2, 40]])"
            ]
          },
          "execution_count": 53,
          "metadata": {},
          "output_type": "execute_result"
        }
      ],
      "source": [
        "# Podemos unir concatenando\n",
        "np.concatenate([K, M], axis = 0)"
      ]
    },
    {
      "cell_type": "code",
      "execution_count": null,
      "metadata": {
        "id": "x6zxoaISJ4zL",
        "outputId": "2be831f1-84f0-4687-df09-b7c64c424b9f"
      },
      "outputs": [
        {
          "data": {
            "text/plain": [
              "array([[43, 33, 35, 21],\n",
              "       [45, 44,  2, 40]])"
            ]
          },
          "execution_count": 54,
          "metadata": {},
          "output_type": "execute_result"
        }
      ],
      "source": [
        "np.concatenate([K, M], axis = 1)"
      ]
    },
    {
      "cell_type": "markdown",
      "metadata": {
        "id": "OSmKJw0pJ4zM"
      },
      "source": [
        "<br><br>\n",
        "## Propagación\n",
        "\n",
        "Para más detalles:\n",
        "https://docs.scipy.org/doc/numpy-1.10.1/user/basics.broadcasting.html"
      ]
    },
    {
      "cell_type": "code",
      "execution_count": null,
      "metadata": {
        "id": "FzjoSPsiJ4zM",
        "outputId": "85b08d20-1bad-4617-bbaa-3b100d982d3c"
      },
      "outputs": [
        {
          "name": "stdout",
          "output_type": "stream",
          "text": [
            "[[0. 0. 0. 0.]\n",
            " [0. 0. 0. 0.]\n",
            " [0. 0. 0. 0.]\n",
            " [0. 0. 0. 0.]]\n"
          ]
        }
      ],
      "source": [
        "base = np.zeros((4,4))\n",
        "print(base)"
      ]
    },
    {
      "cell_type": "code",
      "execution_count": null,
      "metadata": {
        "id": "FAUWzj7YJ4zN",
        "outputId": "e44e4e59-530c-40d5-9d95-1d04b110a19d"
      },
      "outputs": [
        {
          "name": "stdout",
          "output_type": "stream",
          "text": [
            "[1 0 2 7]\n",
            "(4,)\n"
          ]
        }
      ],
      "source": [
        "# Creamos un array unidimensional\n",
        "row = np.array([1, 0, 2,7])\n",
        "print(row)\n",
        "print(row.shape)"
      ]
    },
    {
      "cell_type": "code",
      "execution_count": null,
      "metadata": {
        "id": "ej3nr9sEJ4zN",
        "outputId": "0b604cf5-d577-4713-bed2-395a76ce6e72"
      },
      "outputs": [
        {
          "name": "stdout",
          "output_type": "stream",
          "text": [
            "[[1. 0. 2. 7.]\n",
            " [1. 0. 2. 7.]\n",
            " [1. 0. 2. 7.]\n",
            " [1. 0. 2. 7.]]\n"
          ]
        }
      ],
      "source": [
        "y = base + row\n",
        "print(y)"
      ]
    },
    {
      "cell_type": "code",
      "execution_count": null,
      "metadata": {
        "id": "w39npbycJ4zN",
        "outputId": "45445aaa-3061-4f75-be1e-16b8b2cfea09"
      },
      "outputs": [
        {
          "name": "stdout",
          "output_type": "stream",
          "text": [
            "[[0 1 2 3]]\n"
          ]
        }
      ],
      "source": [
        "# Repetimos lo mismo pero ahora a base le sumaremos una columna\n",
        "col = np.array([[0,1,2,3]])\n",
        "print(col)"
      ]
    },
    {
      "cell_type": "code",
      "execution_count": null,
      "metadata": {
        "id": "8npN17t7J4zO",
        "outputId": "e359f4c1-f05f-4ae1-e102-8e1518dab7c9"
      },
      "outputs": [
        {
          "name": "stdout",
          "output_type": "stream",
          "text": [
            "[[0]\n",
            " [1]\n",
            " [2]\n",
            " [3]]\n"
          ]
        }
      ],
      "source": [
        "# Necesitamos \"verticalizar\" esta \"fila\"\n",
        "col = col.T\n",
        "print(col)"
      ]
    },
    {
      "cell_type": "code",
      "execution_count": null,
      "metadata": {
        "id": "JQdaPOQTJ4zO",
        "outputId": "ed086c98-b473-44ce-c8c5-d529dcb7fe17"
      },
      "outputs": [
        {
          "name": "stdout",
          "output_type": "stream",
          "text": [
            "[[0. 0. 0. 0.]\n",
            " [1. 1. 1. 1.]\n",
            " [2. 2. 2. 2.]\n",
            " [3. 3. 3. 3.]]\n"
          ]
        }
      ],
      "source": [
        "# Sumemos a base\n",
        "y = base + col\n",
        "print(y)"
      ]
    },
    {
      "cell_type": "code",
      "execution_count": null,
      "metadata": {
        "id": "jCa0ssI2J4zP",
        "outputId": "55012ee9-0d70-4df2-b677-9d21e0b4657f"
      },
      "outputs": [
        {
          "name": "stdout",
          "output_type": "stream",
          "text": [
            "[[0]\n",
            " [1]\n",
            " [2]]\n"
          ]
        }
      ],
      "source": [
        "col = np.array([[0,1,2]])\n",
        "col = col.T\n",
        "print(col)"
      ]
    },
    {
      "cell_type": "code",
      "execution_count": null,
      "metadata": {
        "id": "FwUF6zI9J4zP",
        "outputId": "fa660ce8-c6b0-4e02-ecc4-21acfd4113c1"
      },
      "outputs": [
        {
          "ename": "ValueError",
          "evalue": "operands could not be broadcast together with shapes (4,4) (3,1) ",
          "output_type": "error",
          "traceback": [
            "\u001b[0;31m---------------------------------------------------------------------------\u001b[0m",
            "\u001b[0;31mValueError\u001b[0m                                Traceback (most recent call last)",
            "\u001b[0;32m<ipython-input-65-fb6f532634cd>\u001b[0m in \u001b[0;36m<module>\u001b[0;34m\u001b[0m\n\u001b[1;32m      1\u001b[0m \u001b[0;31m# veamos qué pasa cuando quiero hacer una operación de propagación\u001b[0m\u001b[0;34m\u001b[0m\u001b[0;34m\u001b[0m\u001b[0;34m\u001b[0m\u001b[0m\n\u001b[0;32m----> 2\u001b[0;31m \u001b[0my\u001b[0m \u001b[0;34m=\u001b[0m \u001b[0mbase\u001b[0m \u001b[0;34m+\u001b[0m \u001b[0mcol\u001b[0m\u001b[0;34m\u001b[0m\u001b[0;34m\u001b[0m\u001b[0m\n\u001b[0m\u001b[1;32m      3\u001b[0m \u001b[0mprint\u001b[0m\u001b[0;34m(\u001b[0m\u001b[0my\u001b[0m\u001b[0;34m)\u001b[0m\u001b[0;34m\u001b[0m\u001b[0;34m\u001b[0m\u001b[0m\n",
            "\u001b[0;31mValueError\u001b[0m: operands could not be broadcast together with shapes (4,4) (3,1) "
          ]
        }
      ],
      "source": [
        "# Intento hacer una operación de propagación\n",
        "y = base + col\n",
        "print(y)"
      ]
    },
    {
      "cell_type": "code",
      "execution_count": null,
      "metadata": {
        "id": "sRHDhYKwJ4zP",
        "outputId": "aab899d5-22e7-454c-9261-fc422ec9a798"
      },
      "outputs": [
        {
          "name": "stdout",
          "output_type": "stream",
          "text": [
            "[4]\n",
            "________________\n",
            "[[4. 4. 4. 4.]\n",
            " [4. 4. 4. 4.]\n",
            " [4. 4. 4. 4.]\n",
            " [4. 4. 4. 4.]]\n"
          ]
        }
      ],
      "source": [
        "arr_x = np.array([4])\n",
        "print(arr_x)\n",
        "print(\"________________\")\n",
        "print(base + arr_x)"
      ]
    },
    {
      "cell_type": "markdown",
      "metadata": {
        "id": "OS40UGi5J4zQ"
      },
      "source": [
        "### Prueba de velocidad!"
      ]
    },
    {
      "cell_type": "code",
      "execution_count": null,
      "metadata": {
        "id": "id_gzMEoJ4zQ",
        "outputId": "9c57d07a-9b5d-4ef2-be43-a5d946bdc1f3"
      },
      "outputs": [
        {
          "name": "stdout",
          "output_type": "stream",
          "text": [
            "tipo de dato ->  <class 'numpy.ndarray'>\n",
            "Forma ->  (1000000,)\n"
          ]
        }
      ],
      "source": [
        "from numpy import arange\n",
        "from timeit import Timer\n",
        "\n",
        "size    = 1000000\n",
        "timeits = 1000\n",
        "\n",
        "nd_array = arange(size)\n",
        "print( \"tipo de dato -> \",type(nd_array) )\n",
        "print( \"Forma -> \", nd_array.shape)\n"
      ]
    },
    {
      "cell_type": "code",
      "execution_count": null,
      "metadata": {
        "id": "v2eFkxZ4J4zQ",
        "outputId": "2f88c404-8bd0-47c5-d4ff-ae8a5655ecdb"
      },
      "outputs": [
        {
          "name": "stdout",
          "output_type": "stream",
          "text": [
            "Time taken by numpy ndarray: 0.680027 seconds\n"
          ]
        }
      ],
      "source": [
        "# Con la función timer podemos medir, el tiempo que lleva realizar una operación o función\n",
        "\n",
        "timer_numpy = Timer(\"nd_array.sum()\", \"from __main__ import nd_array\")\n",
        "print(\"Time taken by numpy ndarray: %f seconds\" % (timer_numpy.timeit(timeits)))"
      ]
    },
    {
      "cell_type": "code",
      "execution_count": null,
      "metadata": {
        "id": "KB7BHtPlJ4zR",
        "outputId": "e9425d20-c000-4e4d-d57d-7c11c2750a0e"
      },
      "outputs": [
        {
          "name": "stdout",
          "output_type": "stream",
          "text": [
            "<class 'list'>\n",
            "Forma ->  1000000\n"
          ]
        }
      ],
      "source": [
        "a_list = list(range(size))\n",
        "print (type(a_list) )\n",
        "print( \"Forma -> \", len(a_list))"
      ]
    },
    {
      "cell_type": "code",
      "execution_count": null,
      "metadata": {
        "id": "hbcVFmipJ4zR",
        "outputId": "ddb0783e-84b5-4217-b4e3-984bfb241a64"
      },
      "outputs": [
        {
          "name": "stdout",
          "output_type": "stream",
          "text": [
            "Time taken by list:  5.888654 seconds\n"
          ]
        }
      ],
      "source": [
        "timer_list = Timer(\"sum(a_list)\", \"from __main__ import a_list\")\n",
        "print(\"Time taken by list:  %f seconds\" % (timer_list.timeit(timeits)))"
      ]
    },
    {
      "cell_type": "markdown",
      "metadata": {
        "id": "-8fsQWsdJ4zS"
      },
      "source": [
        "### Grabar array a disco / recuperar array de disco"
      ]
    },
    {
      "cell_type": "code",
      "execution_count": null,
      "metadata": {
        "id": "yu2fwcQsJ4zT"
      },
      "outputs": [],
      "source": [
        "x = np.array([ 23.23, 24.24] )"
      ]
    },
    {
      "cell_type": "code",
      "execution_count": null,
      "metadata": {
        "id": "audvXnLCJ4zU"
      },
      "outputs": [],
      "source": [
        " np.save('array_importante', x)"
      ]
    },
    {
      "cell_type": "code",
      "execution_count": null,
      "metadata": {
        "id": "1CVLMjWGJ4zV",
        "outputId": "5565e99a-9315-4cce-aee3-7ea3709b516c"
      },
      "outputs": [
        {
          "name": "stdout",
          "output_type": "stream",
          "text": [
            "el array recuperado es:  [23.23 24.24]\n"
          ]
        }
      ],
      "source": [
        "recuperado = np.load('array_importante.npy')\n",
        "print(\"el array recuperado es: \", recuperado)"
      ]
    }
  ],
  "metadata": {
    "kernelspec": {
      "display_name": "Python 3",
      "language": "python",
      "name": "python3"
    },
    "language_info": {
      "codemirror_mode": {
        "name": "ipython",
        "version": 3
      },
      "file_extension": ".py",
      "mimetype": "text/x-python",
      "name": "python",
      "nbconvert_exporter": "python",
      "pygments_lexer": "ipython3",
      "version": "3.7.3"
    },
    "colab": {
      "provenance": []
    }
  },
  "nbformat": 4,
  "nbformat_minor": 0
}